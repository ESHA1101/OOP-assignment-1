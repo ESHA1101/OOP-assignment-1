{
  "nbformat": 4,
  "nbformat_minor": 0,
  "metadata": {
    "colab": {
      "name": "OOP-Python-Assignments-1",
      "provenance": [],
      "collapsed_sections": [],
      "include_colab_link": true
    },
    "kernelspec": {
      "name": "python3",
      "display_name": "Python 3"
    },
    "language_info": {
      "name": "python"
    }
  },
  "cells": [
    {
      "cell_type": "markdown",
      "metadata": {
        "id": "view-in-github",
        "colab_type": "text"
      },
      "source": [
        "<a href=\"https://colab.research.google.com/github/ESHA1101/OOP-assignment-1/blob/main/OOP_Python_Assignments_1.ipynb\" target=\"_parent\"><img src=\"https://colab.research.google.com/assets/colab-badge.svg\" alt=\"Open In Colab\"/></a>"
      ]
    },
    {
      "cell_type": "code",
      "metadata": {
        "id": "VhgIGkR1J-t8",
        "colab": {
          "base_uri": "https://localhost:8080/"
        },
        "outputId": "0517533d-a647-461f-9fdb-e1d46e607bad"
      },
      "source": [
        "a=0\n",
        "b=55.3432\n",
        "print(a+b)\n",
        "c='edniw'\n",
        "print(c)"
      ],
      "execution_count": 3,
      "outputs": [
        {
          "output_type": "stream",
          "text": [
            "55.3432\n",
            "edniw\n"
          ],
          "name": "stdout"
        }
      ]
    },
    {
      "cell_type": "markdown",
      "metadata": {
        "id": "qBmUBiCrKKrp"
      },
      "source": [
        "### Program -1"
      ]
    },
    {
      "cell_type": "code",
      "metadata": {
        "id": "WiTH8r28Knwk",
        "colab": {
          "base_uri": "https://localhost:8080/"
        },
        "outputId": "c556e9d2-8675-4507-bbad-4f7994b49559"
      },
      "source": [
        "''' The example below shows how different variables are assigned. \n",
        "The same variables are printed '''\n",
        "\n",
        "#!/usr/bin/python\n",
        "\n",
        "x = 30              # a whole number                   \n",
        "f = 3.1415926      # a floating point number              \n",
        "myName = \"OOP using Python\"    # a string variable - Camel casing\n",
        "print(x)\n",
        "print(f)\n",
        "print(myName)\n",
        "combination = myName + \" \" + myName\n",
        "print(combination)\n",
        "sum = f + f\n",
        "print(sum) \n"
      ],
      "execution_count": 1,
      "outputs": [
        {
          "output_type": "stream",
          "text": [
            "30\n",
            "3.1415926\n",
            "OOP using Python\n",
            "OOP using Python OOP using Python\n",
            "6.2831852\n"
          ],
          "name": "stdout"
        }
      ]
    },
    {
      "cell_type": "code",
      "metadata": {
        "id": "HW2TsgogKp73",
        "colab": {
          "base_uri": "https://localhost:8080/"
        },
        "outputId": "1ed8a88b-2fac-4ffa-cc64-29b325fa3b38"
      },
      "source": [
        "a='abcdefghijklmnop'\n",
        "print(a[1+2])"
      ],
      "execution_count": 6,
      "outputs": [
        {
          "output_type": "stream",
          "text": [
            "d\n"
          ],
          "name": "stdout"
        }
      ]
    },
    {
      "cell_type": "markdown",
      "metadata": {
        "id": "Ibd8J9HmKxf5"
      },
      "source": [
        "### Program -2 "
      ]
    },
    {
      "cell_type": "code",
      "metadata": {
        "id": "HVI62M89K_D4",
        "colab": {
          "base_uri": "https://localhost:8080/"
        },
        "outputId": "0ade4b4c-7cf5-4623-ab23-ff993eb75d94"
      },
      "source": [
        "# Problem 2     Python strings \n",
        "x = \"Welcome to OOP Course\"\n",
        "print(x)\n",
        "print(x[0])       # indexing starts from 0\n",
        "print(x[1])\n",
        "s = x[0:3]        # substring \n",
        "print(s)\n",
        "t = x[8:10]     # indexing \n",
        "print(t)\n",
        "s = \"My lucky number is %d, what is yours?\" % 7          # Combine numbers and text\n",
        "print(s)\n",
        "s = \"My lucky number is \" + str(7) + \", what is yours?\"   # alternative method of combining numbers and text\n",
        "print(s)"
      ],
      "execution_count": 4,
      "outputs": [
        {
          "output_type": "stream",
          "text": [
            "Welcome to OOP Course\n",
            "W\n",
            "e\n",
            "Wel\n",
            "to\n",
            "My lucky number is 7, what is yours?\n",
            "My lucky number is 7, what is yours?\n"
          ],
          "name": "stdout"
        }
      ]
    },
    {
      "cell_type": "code",
      "metadata": {
        "id": "Yrr3CydELACm",
        "colab": {
          "base_uri": "https://localhost:8080/"
        },
        "outputId": "0d940554-1e36-48b6-a787-feac396e5c55"
      },
      "source": [
        "s = \"My name is Esha\"\n",
        "s = s.replace(\"Esha\",\"Riya\")\n",
        "print(s)\n",
        "index = s.find(\"name\")\n",
        "if \"Name\" in s:\n",
        "    print(\"Name found\")\n",
        "if \"name\" in s:\n",
        "    print(\"found\")\n",
        "print(s,\"\\n\", index)"
      ],
      "execution_count": 7,
      "outputs": [
        {
          "output_type": "stream",
          "text": [
            "My name is Riya\n",
            "found\n",
            "My name is Riya \n",
            " 3\n"
          ],
          "name": "stdout"
        }
      ]
    },
    {
      "cell_type": "markdown",
      "metadata": {
        "id": "oueKuixrLA8q"
      },
      "source": [
        "### Program -3 "
      ]
    },
    {
      "cell_type": "code",
      "metadata": {
        "id": "WaJyreUFLHuN",
        "colab": {
          "base_uri": "https://localhost:8080/"
        },
        "outputId": "aa4da78c-92cc-48f9-fb68-0db4147152d2"
      },
      "source": [
        "# Problem 3 - Use string functions\n",
        "s = \"OOP Course is offered in IIIT DWD\"\n",
        "s = s.replace(\"OOP\",\"CS\")\n",
        "index = s.find(\"IIIT DWD\")\n",
        "if \"IIIT DWD\" in s:\n",
        "    print(\"Institute found\")\n",
        "print(s,\"\\n\", index)"
      ],
      "execution_count": 8,
      "outputs": [
        {
          "output_type": "stream",
          "text": [
            "Institute found\n",
            "CS Course is offered in IIIT DWD \n",
            " 24\n"
          ],
          "name": "stdout"
        }
      ]
    },
    {
      "cell_type": "code",
      "metadata": {
        "id": "RiKENL92LJQD",
        "colab": {
          "base_uri": "https://localhost:8080/"
        },
        "outputId": "2029918f-43b7-451b-fbc4-5d50ec5c5772"
      },
      "source": [
        "a='CS'\n",
        "b='python'\n",
        "letters=['w','o','r','d']\n",
        "word = ''.join(letters)\n",
        "print(word)\n",
        "w_o_r_d = '_'.join(letters)\n",
        "print(w_o_r_d)"
      ],
      "execution_count": 15,
      "outputs": [
        {
          "output_type": "stream",
          "text": [
            "word\n",
            "w_o_r_d\n"
          ],
          "name": "stdout"
        }
      ]
    },
    {
      "cell_type": "markdown",
      "metadata": {
        "id": "dC5nz_H0LKQi"
      },
      "source": [
        "### Program 4"
      ]
    },
    {
      "cell_type": "code",
      "metadata": {
        "id": "ogSQL_wsLMFj",
        "colab": {
          "base_uri": "https://localhost:8080/"
        },
        "outputId": "8df85e53-aaa6-4242-dc98-5702d29bd1be"
      },
      "source": [
        "# Problem 4 \n",
        "\n",
        "# define strings                                                         \n",
        "firstName = \"OOP\"\n",
        "lastName = \"Course\"\n",
        "words = [\"How\",\"are\",\"you\",\"learning \", \"OOP \" , \"Course\",\"?\"]\n",
        "\n",
        "sentence = ' '.join(words)\n",
        "print(sentence)\n"
      ],
      "execution_count": 9,
      "outputs": [
        {
          "output_type": "stream",
          "text": [
            "How are you learning  OOP  Course ?\n"
          ],
          "name": "stdout"
        }
      ]
    },
    {
      "cell_type": "code",
      "metadata": {
        "id": "QotTPifVLQuK",
        "colab": {
          "base_uri": "https://localhost:8080/"
        },
        "outputId": "6a2687b0-e6ac-4fbc-fcee-0a9dc64544be"
      },
      "source": [
        "s = \"My name is Esha\"\n",
        "words = s.split()        \n",
        "print(words, len(s)-15)\n",
        "\n",
        "x = list(words[3])  \n",
        "print(x)\n"
      ],
      "execution_count": 23,
      "outputs": [
        {
          "output_type": "stream",
          "text": [
            "['My', 'name', 'is', 'Esha'] 0\n",
            "['E', 's', 'h', 'a']\n"
          ],
          "name": "stdout"
        }
      ]
    },
    {
      "cell_type": "markdown",
      "metadata": {
        "id": "tH0wxSWwLR2g"
      },
      "source": [
        "### Program 5"
      ]
    },
    {
      "cell_type": "code",
      "metadata": {
        "id": "54WrzhoILXoA",
        "colab": {
          "base_uri": "https://localhost:8080/"
        },
        "outputId": "07f4994f-2685-421f-b809-5aab3d196e95"
      },
      "source": [
        "# Problem 5 \n",
        "s = \"OOP course is easy to Learn\"\n",
        "words = s.split()        # splits sentence into list of words\n",
        "print(words, len(s))\n",
        "\n",
        "x = list(words[0])   # splits word in character\n",
        "print(x)"
      ],
      "execution_count": 16,
      "outputs": [
        {
          "output_type": "stream",
          "text": [
            "['OOP', 'course', 'is', 'easy', 'to', 'Learn'] 27\n",
            "['O', 'O', 'P']\n"
          ],
          "name": "stdout"
        }
      ]
    },
    {
      "cell_type": "markdown",
      "metadata": {
        "id": "KKhoM8cSLY6T"
      },
      "source": [
        "### Program 6"
      ]
    },
    {
      "cell_type": "code",
      "metadata": {
        "id": "6AFAUbc0LeW4",
        "colab": {
          "base_uri": "https://localhost:8080/"
        },
        "outputId": "695462d3-6176-4ccb-85b6-ae1e3b0d78b4"
      },
      "source": [
        "# problem 6\n",
        "\n",
        "import random\n",
        "\n",
        "# Create a random floating point number and print it.\n",
        "print(random.random())\n",
        "\n",
        "# pick a random whole number between 0 and 10.\n",
        "print(random.randrange(0,15))\n",
        "\n",
        "# pick a random floating point number between 0 and 10.\n",
        "print(random.uniform(0,10))"
      ],
      "execution_count": 24,
      "outputs": [
        {
          "output_type": "stream",
          "text": [
            "0.012426153923756011\n",
            "3\n",
            "5.555605413822277\n"
          ],
          "name": "stdout"
        }
      ]
    },
    {
      "cell_type": "code",
      "metadata": {
        "id": "BOISzg2mLfhm",
        "colab": {
          "base_uri": "https://localhost:8080/"
        },
        "outputId": "6c6b5c1f-606c-4545-94b8-62689cba078c"
      },
      "source": [
        "import random\n",
        "print(random.random())\n",
        "print(random.random())\n",
        "print(random.random())\n",
        "print(random.randrange(0,1))\n",
        "print(random.uniform(0,0.01))"
      ],
      "execution_count": 33,
      "outputs": [
        {
          "output_type": "stream",
          "text": [
            "0.4334092268150841\n",
            "0.44707261659157826\n",
            "0.5061943754926257\n",
            "0\n",
            "0.004172552835149496\n"
          ],
          "name": "stdout"
        }
      ]
    },
    {
      "cell_type": "markdown",
      "metadata": {
        "id": "BAI2ekPyLgX0"
      },
      "source": [
        "### Program 7"
      ]
    },
    {
      "cell_type": "code",
      "metadata": {
        "id": "ibI3tlJXLiji",
        "colab": {
          "base_uri": "https://localhost:8080/"
        },
        "outputId": "08599b8a-1b01-49ab-922b-3fcc35c7f95e"
      },
      "source": [
        "# problem 7\n",
        "\n",
        "#!/usr/bin/env python3\n",
        "\n",
        "name = input('What is your name? ')\n",
        "print('Welcome to OOP Course ' + name)\n",
        "\n",
        "qualification = input('What is your Qualification? ')\n",
        "print(name + \"'s\" + ' Educational Qualification  is ' + qualification)\n",
        "\n",
        "phoneNum = int(input('Give me phone number? '))\n",
        "print('Phone number is : ' + str(phoneNum))\n",
        "age=input('What is your age?:')\n",
        "print('You are '+age+' years old')"
      ],
      "execution_count": 38,
      "outputs": [
        {
          "output_type": "stream",
          "text": [
            "What is your name? Esha\n",
            "Welcome to OOP Course Esha\n",
            "What is your Qualification? student\n",
            "Esha's Educational Qualification  is student\n",
            "Give me phone number? 1287239832649\n",
            "Phone number is : 1287239832649\n",
            "What is your age?:19\n",
            "You are 19 years old\n"
          ],
          "name": "stdout"
        }
      ]
    },
    {
      "cell_type": "markdown",
      "metadata": {
        "id": "5bfyR3uWMh-z"
      },
      "source": [
        "### Program 8"
      ]
    },
    {
      "cell_type": "code",
      "metadata": {
        "id": "g6Kuf5jzMoOa",
        "colab": {
          "base_uri": "https://localhost:8080/"
        },
        "outputId": "3701b319-0b43-4908-ecee-be8f0d52d62e"
      },
      "source": [
        "# problem 8    interactive program\n",
        "\n",
        "#!/usr/bin/env python3\n",
        "\n",
        "gender = input(\"Gender? \")\n",
        "\n",
        "print(gender)\n",
        "if gender == \"male\":\n",
        "    print(\" cat is male\")\n",
        "elif gender == \"female\":\n",
        "    print(\"cat is female\")\n",
        "else:\n",
        "    print(\"Invalid input\")\n",
        "age = int(input(\"Age of your cat? \"))\n",
        "\n",
        "if age < 5:\n",
        "    print(\"cat age is\", age)\n",
        "else:\n",
        "    print(\"Your cat is adult.\")\n",
        "\n",
        "x = 2\n",
        "if x == 2:\n",
        "    print('two')\n",
        "elif x == 3:\n",
        "    print('three')\n",
        "elif x == 4:\n",
        "    print('four')\n",
        "else:\n",
        "    print('something else')\n"
      ],
      "execution_count": 43,
      "outputs": [
        {
          "output_type": "stream",
          "text": [
            "Gender? female\n",
            "female\n",
            "cat is female\n",
            "Age of your cat? 2\n",
            "cat age is 2\n",
            "two\n"
          ],
          "name": "stdout"
        }
      ]
    },
    {
      "cell_type": "markdown",
      "metadata": {
        "id": "Dq6ciHBINFzZ"
      },
      "source": [
        "### Program 9 - Loops"
      ]
    },
    {
      "cell_type": "code",
      "metadata": {
        "id": "w9NGvgdxNKmJ",
        "colab": {
          "base_uri": "https://localhost:8080/"
        },
        "outputId": "864221ae-2802-4287-942a-10c938abc96c"
      },
      "source": [
        "# Problem 9   \n",
        "#!/usr/bin/env python3\n",
        "# The first loop will repeat the print function for every item of the list.\n",
        "# The second loop will do a calculation on every element of the list num and print the result.\n",
        "\n",
        "city = ['Tokyo','New York','Toronto','Hong Kong']\n",
        "print('Cities loop:')\n",
        "for x in city:\n",
        "    print('City: ' +x)\n",
        "\n",
        "# problem 10\n",
        "\n",
        "x = 3                              \n",
        "while x < 9:\n",
        "    print(x)\n",
        "    x = x + 1"
      ],
      "execution_count": 47,
      "outputs": [
        {
          "output_type": "stream",
          "text": [
            "Cities loop:\n",
            "City: Tokyo\n",
            "City: New York\n",
            "City: Toronto\n",
            "City: Hong Kong\n",
            "3\n",
            "4\n",
            "5\n",
            "6\n",
            "7\n",
            "8\n"
          ],
          "name": "stdout"
        }
      ]
    },
    {
      "cell_type": "markdown",
      "metadata": {
        "id": "_X5BOwB4NfOH"
      },
      "source": [
        "### Program 10 "
      ]
    },
    {
      "cell_type": "code",
      "metadata": {
        "id": "sQc7hsGKNoSK",
        "colab": {
          "base_uri": "https://localhost:8080/"
        },
        "outputId": "a97ca894-4d20-4029-cdc3-94886777e149"
      },
      "source": [
        "# problem 10 - functions without  parameters\n",
        "\n",
        "def currentYear():\n",
        "    print('2021')\n",
        "currentYear()    \n",
        "\n",
        "\n",
        "def f(x,y):     # with parameters\n",
        "    return x/y\n",
        "print(f(3,4))\n",
        "result = f(3,4)   # return to a variable \n",
        "print(result)\n",
        "print('\\n')  # newline\n",
        "\n",
        "\n",
        "num = [1,2,3,4,5,6,7,8,9]\n",
        "print('x^2 loop:')\n",
        "for x in num:\n",
        "    y = x * (-x)\n",
        "    print(str(x) + '*' + str(-x) + '=' + str(y))\n",
        "\n",
        "# Python lists\n",
        "pythonList = [ \"New York\", \"Los Angles\", \"Boston\", \"Denver\" ]\n",
        "\n",
        "print(pythonList)     # prints all elements\n",
        "print(pythonList[0])  # print first element\n",
        "print(pythonList[-1])\n",
        "   "
      ],
      "execution_count": 51,
      "outputs": [
        {
          "output_type": "stream",
          "text": [
            "2021\n",
            "0.75\n",
            "0.75\n",
            "\n",
            "\n",
            "x^2 loop:\n",
            "1*-1=-1\n",
            "2*-2=-4\n",
            "3*-3=-9\n",
            "4*-4=-16\n",
            "5*-5=-25\n",
            "6*-6=-36\n",
            "7*-7=-49\n",
            "8*-8=-64\n",
            "9*-9=-81\n",
            "['New York', 'Los Angles', 'Boston', 'Denver']\n",
            "New York\n",
            "Denver\n"
          ],
          "name": "stdout"
        }
      ]
    },
    {
      "cell_type": "code",
      "metadata": {
        "id": "JAtHTENNNPuD"
      },
      "source": [
        ""
      ],
      "execution_count": null,
      "outputs": []
    }
  ]
}