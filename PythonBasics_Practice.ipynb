{
  "nbformat": 4,
  "nbformat_minor": 0,
  "metadata": {
    "colab": {
      "name": "PythonBasics-Practice.ipynb",
      "provenance": [],
      "collapsed_sections": [],
      "include_colab_link": true
    },
    "kernelspec": {
      "name": "python3",
      "display_name": "Python 3"
    },
    "language_info": {
      "name": "python"
    }
  },
  "cells": [
    {
      "cell_type": "markdown",
      "metadata": {
        "id": "view-in-github",
        "colab_type": "text"
      },
      "source": [
        "<a href=\"https://colab.research.google.com/github/ESHA1101/OOP-assignment-1/blob/main/PythonBasics_Practice.ipynb\" target=\"_parent\"><img src=\"https://colab.research.google.com/assets/colab-badge.svg\" alt=\"Open In Colab\"/></a>"
      ]
    },
    {
      "cell_type": "code",
      "metadata": {
        "id": "9wO639a_rZmW"
      },
      "source": [
        "### Python - Practice"
      ],
      "execution_count": null,
      "outputs": []
    },
    {
      "cell_type": "markdown",
      "metadata": {
        "id": "LNX-qxmksOyu"
      },
      "source": [
        "## Python - Practice - 17/08/2021"
      ]
    },
    {
      "cell_type": "markdown",
      "metadata": {
        "id": "FqkvLAQcrbSl"
      },
      "source": [
        "## Python Keywords and Identifiers\n",
        "\n",
        "Rules for writing identifiers:\n",
        "* It can be a combination of letters in lowercase (a to z) or uppercase (A to Z) or digits (0 to 9).\n",
        "* It can be an underscore _. \n",
        "* Example : myCar, str_1, var_23 \n",
        "* multiple words can be separated using an underscore like this_is_a_sentence.\n",
        "* An identifier cannot start with a digit. 1variable is invalid, but variable1 is a valid name.\n",
        "* Keywords cannot be used as identifiers . \n",
        "example : global = 40\n",
        "* special symbols like !, @, #, $, % etc. cant  not used as identifiers\n",
        "identifier size can be of any length\n",
        "* Python is a case-sensitive language. Example :  Variable and variable a"
      ]
    },
    {
      "cell_type": "markdown",
      "metadata": {
        "id": "_fIA2pdTsC_o"
      },
      "source": [
        "## Python Statement\n"
      ]
    },
    {
      "cell_type": "code",
      "metadata": {
        "id": "nQNTpjUWsIF_"
      },
      "source": [
        "var1 = 10     # is a  assignment statement"
      ],
      "execution_count": null,
      "outputs": []
    },
    {
      "cell_type": "markdown",
      "metadata": {
        "id": "dTpCEcLksck4"
      },
      "source": [
        "### Multiline statements:"
      ]
    },
    {
      "cell_type": "markdown",
      "metadata": {
        "id": "cbOPJ7Q-sYAA"
      },
      "source": [
        "sum = 100 + 25 + 30 + \\\n",
        "    49 + 58 + 62 + \\\n",
        "    70 + 82 + 94\n",
        "\n"
      ]
    },
    {
      "cell_type": "code",
      "metadata": {
        "id": "qeikRN0UsnhY",
        "outputId": "4a7584e7-85bc-4758-aeb4-c07a71b987ba",
        "colab": {
          "base_uri": "https://localhost:8080/"
        }
      },
      "source": [
        "temp = (10 + 32 + 53 +\n",
        "    40 + 52 + 46 +\n",
        "    27 + 68 + 59)\n",
        "print(temp)\n",
        "print(temp-1)\n",
        "car_Colours = ['red',\n",
        "                'blue',\n",
        "                'green']\n",
        "\n",
        "\n",
        "a = 1; b = 2; c = 3"
      ],
      "execution_count": 9,
      "outputs": [
        {
          "output_type": "stream",
          "text": [
            "387\n",
            "386\n"
          ],
          "name": "stdout"
        }
      ]
    },
    {
      "cell_type": "markdown",
      "metadata": {
        "id": "OUesgqzbsuZI"
      },
      "source": [
        "## Python Indentation"
      ]
    },
    {
      "cell_type": "code",
      "metadata": {
        "colab": {
          "base_uri": "https://localhost:8080/"
        },
        "id": "51SElv7Lte_f",
        "outputId": "630829b3-a829-4297-ffa0-28985f177010"
      },
      "source": [
        "for k in range(1,10) :\n",
        "    print(k)\n",
        "    if k == 5 + 4:\n",
        "        break\n",
        "\n",
        "if True:\n",
        "    print('Hii')\n",
        "    a = 5\n",
        "\n",
        "if False: print('Hello'); a = 5"
      ],
      "execution_count": 11,
      "outputs": [
        {
          "output_type": "stream",
          "text": [
            "1\n",
            "2\n",
            "3\n",
            "4\n",
            "5\n",
            "6\n",
            "7\n",
            "8\n",
            "9\n",
            "Hii\n"
          ],
          "name": "stdout"
        }
      ]
    },
    {
      "cell_type": "markdown",
      "metadata": {
        "id": "xuKO0kaHs694"
      },
      "source": [
        "Python Comments"
      ]
    },
    {
      "cell_type": "code",
      "metadata": {
        "colab": {
          "base_uri": "https://localhost:8080/",
          "height": 70
        },
        "id": "pGMQkPL2tC0B",
        "outputId": "7ec1d8dc-f304-47a3-8a87-df9918fdbb7b"
      },
      "source": [
        "#   This is a comment\n",
        "#   print name of the course\n",
        "\n",
        "print('Welcome to OOP Course')\n",
        "\n",
        "print(\"\"\"jj\"\"\")\n",
        "\"\"\"This is also a\n",
        "an example of\n",
        "multi-line comments\"\"\""
      ],
      "execution_count": 13,
      "outputs": [
        {
          "output_type": "stream",
          "text": [
            "Welcome to OOP Course\n",
            "jj\n"
          ],
          "name": "stdout"
        },
        {
          "output_type": "execute_result",
          "data": {
            "application/vnd.google.colaboratory.intrinsic+json": {
              "type": "string"
            },
            "text/plain": [
              "'This is also a\\nan example of\\nmulti-line comments'"
            ]
          },
          "metadata": {},
          "execution_count": 13
        }
      ]
    },
    {
      "cell_type": "markdown",
      "metadata": {
        "id": "3j2W0aFYttr6"
      },
      "source": [
        "## doc string comments"
      ]
    },
    {
      "cell_type": "code",
      "metadata": {
        "id": "tQQhlMK9tIa2"
      },
      "source": [
        ""
      ],
      "execution_count": null,
      "outputs": []
    },
    {
      "cell_type": "code",
      "metadata": {
        "id": "1wVQf6eYtpi0",
        "outputId": "af99cb29-6e77-45e0-d2ff-81c0136bba36",
        "colab": {
          "base_uri": "https://localhost:8080/"
        }
      },
      "source": [
        "def sum(num):\n",
        "    \"\"\"Function to the values\"\"\"\n",
        "    return 2+num\n",
        "\n",
        "print(sum.__doc__)"
      ],
      "execution_count": 14,
      "outputs": [
        {
          "output_type": "stream",
          "text": [
            "Function to the values\n"
          ],
          "name": "stdout"
        }
      ]
    }
  ]
}